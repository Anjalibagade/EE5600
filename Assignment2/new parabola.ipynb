{
 "cells": [
  {
   "cell_type": "code",
   "execution_count": 33,
   "id": "ff3c94ba",
   "metadata": {},
   "outputs": [],
   "source": [
    "import numpy as np\n",
    "import matplotlib.pyplot as plt\n",
    "from numpy import linalg as LA\n",
    "import math\n"
   ]
  },
  {
   "cell_type": "code",
   "execution_count": 34,
   "id": "be5f02fd",
   "metadata": {},
   "outputs": [],
   "source": [
    "def parab_gen(y):\n",
    "    x=y**2\n",
    "    return x"
   ]
  },
  {
   "cell_type": "code",
   "execution_count": null,
   "id": "d9027ea8",
   "metadata": {},
   "outputs": [],
   "source": []
  },
  {
   "cell_type": "code",
   "execution_count": 60,
   "id": "cd6aa18f",
   "metadata": {},
   "outputs": [],
   "source": [
    "#parab parameters\n",
    "V = np.array(([0,0],[0,1]))\n",
    "u = np.array(([-1/2,0]))\n",
    "f = 0"
   ]
  },
  {
   "cell_type": "code",
   "execution_count": 64,
   "id": "a869a317",
   "metadata": {},
   "outputs": [],
   "source": [
    "p = np.array(([1,0]))\n",
    "\n",
    "eta = np.array([p@u])"
   ]
  },
  {
   "cell_type": "code",
   "execution_count": 65,
   "id": "455e1778",
   "metadata": {},
   "outputs": [],
   "source": [
    "a=-0.5*p-u"
   ]
  },
  {
   "cell_type": "code",
   "execution_count": 66,
   "id": "d86669eb",
   "metadata": {},
   "outputs": [],
   "source": [
    "\n",
    "b=u+eta*p"
   ]
  },
  {
   "cell_type": "code",
   "execution_count": 67,
   "id": "af8cbaab",
   "metadata": {},
   "outputs": [],
   "source": [
    "\n",
    "c1 = np.vstack((u+eta*p,V))\n"
   ]
  },
  {
   "cell_type": "code",
   "execution_count": 68,
   "id": "9e274634",
   "metadata": {},
   "outputs": [],
   "source": [
    "c2 = np.vstack((-f,(a).reshape(-1,1)))"
   ]
  },
  {
   "cell_type": "code",
   "execution_count": 69,
   "id": "3f2aa5e8",
   "metadata": {},
   "outputs": [],
   "source": [
    "c = LA.lstsq(c1,c2,rcond=None)[0]\n",
    "c = c.flatten()"
   ]
  },
  {
   "cell_type": "code",
   "execution_count": 70,
   "id": "89e326d6",
   "metadata": {},
   "outputs": [
    {
     "name": "stdout",
     "output_type": "stream",
     "text": [
      "[0. 0.]\n"
     ]
    }
   ],
   "source": [
    "print(c)"
   ]
  },
  {
   "cell_type": "code",
   "execution_count": 71,
   "id": "9fed1854",
   "metadata": {},
   "outputs": [],
   "source": [
    "n = np.array(([1,0]))\n",
    "lambda_2=1\n",
    "e=1\n",
    "D=np.array(([(u@u-lambda_2*f)/(2*e*e*u@n),0]))"
   ]
  },
  {
   "cell_type": "code",
   "execution_count": 72,
   "id": "99cd99f9",
   "metadata": {},
   "outputs": [
    {
     "name": "stdout",
     "output_type": "stream",
     "text": [
      "[-0.25  0.  ]\n"
     ]
    }
   ],
   "source": [
    "print(D)"
   ]
  },
  {
   "cell_type": "code",
   "execution_count": 73,
   "id": "2a777d5e",
   "metadata": {},
   "outputs": [],
   "source": [
    "F=-D"
   ]
  },
  {
   "cell_type": "code",
   "execution_count": 74,
   "id": "cadd95f3",
   "metadata": {},
   "outputs": [
    {
     "name": "stdout",
     "output_type": "stream",
     "text": [
      "[ 0.25 -0.  ]\n"
     ]
    }
   ],
   "source": [
    "print(F)"
   ]
  },
  {
   "cell_type": "code",
   "execution_count": 77,
   "id": "1d01ec8f",
   "metadata": {},
   "outputs": [
    {
     "data": {
      "image/png": "[encoded data removed]",
      "text/plain": [
       "<Figure size 432x288 with 1 Axes>"
      ]
     },
     "metadata": {
      "needs_background": "light"
     },
     "output_type": "display_data"
    }
   ],
   "source": [
    "y=np.linspace(-1,1,1000)\n",
    "x=y**2\n",
    "plt.text(c[0] * (1 - 0.1), c[1] * (1 - 0.2) , '(0,0)')\n",
    "plt.text(F[0] * (1 - 0.1), F[1] * (1 - 0.2) , '(1/4,0)')\n",
    "plt.text(D[0] * (1 - 0.1), D[1] * (1 - 0.2) , 'x=-1/4')\n",
    "plt.plot(0,0,'ro',label='Vertex point')\n",
    "plt.plot(1/4,0,'go',label='Focus point')\n",
    "plt.plot(-1/4,0,label='Directrix')\n",
    "plt.axvline(x=-0.25, color =\"blue\")\n",
    "plt.plot(x,y)\n",
    "plt.xlabel(\"x axis\")\n",
    "plt.ylabel(\"y axis\")\n",
    "plt.grid()\n",
    "plt.legend(loc='best')\n",
    "plt.show()"
   ]
  },
  {
   "cell_type": "code",
   "execution_count": null,
   "id": "727e65e9",
   "metadata": {},
   "outputs": [],
   "source": []
  },
  {
   "cell_type": "code",
   "execution_count": null,
   "id": "fce043fb",
   "metadata": {},
   "outputs": [],
   "source": []
  },
  {
   "cell_type": "code",
   "execution_count": null,
   "id": "f7de9cbd",
   "metadata": {},
   "outputs": [],
   "source": []
  }
 ],
 "metadata": {
  "kernelspec": {
   "display_name": "Python 3",
   "language": "python",
   "name": "python3"
  },
  "language_info": {
   "codemirror_mode": {
    "name": "ipython",
    "version": 3
   },
   "file_extension": ".py",
   "mimetype": "text/x-python",
   "name": "python",
   "nbconvert_exporter": "python",
   "pygments_lexer": "ipython3",
   "version": "3.8.8"
  }
 },
 "nbformat": 4,
 "nbformat_minor": 5
}

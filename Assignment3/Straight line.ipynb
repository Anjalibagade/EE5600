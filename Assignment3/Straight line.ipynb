{
 "cells": [
  {
   "cell_type": "code",
   "execution_count": 14,
   "id": "c1033759",
   "metadata": {},
   "outputs": [
    {
     "data": {
      "image/png": "[encoded data removed]",
      "text/plain": [
       "<Figure size 432x288 with 1 Axes>"
      ]
     },
     "metadata": {
      "needs_background": "light"
     },
     "output_type": "display_data"
    }
   ],
   "source": [
    "import numpy as np\n",
    "import matplotlib.pyplot as plt\n",
    "def line_gen(A,B):\n",
    "  len =10\n",
    "  x_AB = np.zeros((2,len))\n",
    "  lam_1 = np.linspace(0,1,len)\n",
    "  for i in range(len):\n",
    "    temp1 = A + lam_1[i]*(B-A)\n",
    "    x_AB[:,i]= temp1.T\n",
    "  return x_AB\n",
    "a = np.array([-1,1])\n",
    "c = 1\n",
    "e1 = np.array([1,0])\n",
    "e2 = np.array([0,1])\n",
    "A = c*e1/(a@e1)\n",
    "B = c*e2/(a@e2)\n",
    "#Generating all lines\n",
    "x_AB = line_gen(A,B)\n",
    "#Plotting all lines\n",
    "plt.plot(x_AB[0,:],x_AB[1,:],label='$-x+y-1=0$')\n",
    "plt.plot(A[0], A[1], 'o')\n",
    "plt.text(A[0] * (1 - 0.1), A[1] * (1 - 0.1) , 'A(-1,0)')\n",
    "plt.plot(B[0], B[1], 'o')\n",
    "plt.text(B[0] * (1-0.1), B[1] * (1-0.1) , 'B(1,0)')\n",
    "plt.xlabel('$x-axis$')\n",
    "plt.ylabel('$y-axis$')\n",
    "plt.legend(loc='best')\n",
    "plt.grid() # minor\n",
    "plt.axis('equal')\n",
    "plt.show()"
   ]
  },
  {
   "cell_type": "code",
   "execution_count": null,
   "id": "48a17e58",
   "metadata": {},
   "outputs": [],
   "source": []
  },
  {
   "cell_type": "code",
   "execution_count": null,
   "id": "28649d86",
   "metadata": {},
   "outputs": [],
   "source": []
  }
 ],
 "metadata": {
  "kernelspec": {
   "display_name": "Python 3",
   "language": "python",
   "name": "python3"
  },
  "language_info": {
   "codemirror_mode": {
    "name": "ipython",
    "version": 3
   },
   "file_extension": ".py",
   "mimetype": "text/x-python",
   "name": "python",
   "nbconvert_exporter": "python",
   "pygments_lexer": "ipython3",
   "version": "3.8.8"
  }
 },
 "nbformat": 4,
 "nbformat_minor": 5
}
